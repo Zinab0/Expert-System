{
  "nbformat": 4,
  "nbformat_minor": 0,
  "metadata": {
    "colab": {
      "provenance": [],
      "collapsed_sections": [],
      "authorship_tag": "ABX9TyPywVKo/gGtf47A4MAYCOOX",
      "include_colab_link": true
    },
    "kernelspec": {
      "name": "python3",
      "display_name": "Python 3"
    },
    "language_info": {
      "name": "python"
    }
  },
  "cells": [
    {
      "cell_type": "markdown",
      "metadata": {
        "id": "view-in-github",
        "colab_type": "text"
      },
      "source": [
        "<a href=\"https://colab.research.google.com/github/Zinab0/Expert-System/blob/main/ExpertSystem.ipynb\" target=\"_parent\"><img src=\"https://colab.research.google.com/assets/colab-badge.svg\" alt=\"Open In Colab\"/></a>"
      ]
    },
    {
      "cell_type": "code",
      "execution_count": 14,
      "metadata": {
        "colab": {
          "base_uri": "https://localhost:8080/"
        },
        "id": "d96Zi1WYnQTb",
        "outputId": "37a8cdb7-f2d8-4b32-97c8-94be8aa7318c"
      },
      "outputs": [
        {
          "output_type": "stream",
          "name": "stdout",
          "text": [
            "Looking in indexes: https://pypi.org/simple, https://us-python.pkg.dev/colab-wheels/public/simple/\n",
            "Requirement already satisfied: experta in /usr/local/lib/python3.7/dist-packages (1.9.4)\n",
            "Requirement already satisfied: frozendict==1.2 in /usr/local/lib/python3.7/dist-packages (from experta) (1.2)\n",
            "Requirement already satisfied: schema==0.6.7 in /usr/local/lib/python3.7/dist-packages (from experta) (0.6.7)\n",
            "Looking in indexes: https://pypi.org/simple, https://us-python.pkg.dev/colab-wheels/public/simple/\n",
            "Collecting simple_colors\n",
            "  Downloading simple_colors-0.1.5-py3-none-any.whl (2.8 kB)\n",
            "Installing collected packages: simple-colors\n",
            "Successfully installed simple-colors-0.1.5\n"
          ]
        }
      ],
      "source": [
        "! pip install experta\n",
        "! pip install simple_colors"
      ]
    },
    {
      "cell_type": "code",
      "source": [
        "from experta import *\n",
        "from simple_colors import *\n"
      ],
      "metadata": {
        "id": "i9xpapyHosIq"
      },
      "execution_count": 15,
      "outputs": []
    },
    {
      "cell_type": "code",
      "source": [
        "class Course(Fact):\n",
        "  pass\n",
        "\n",
        "class SuitableCourseKBA(KnowledgeEngine):\n",
        "\n",
        "  # rule 1\n",
        "  @Rule(AND(Course(freeOrPaid = \"paid\"), Course(duration = \"1-3\"), Course(level = \"easy\")))\n",
        "  def select_course1(self):\n",
        "    print(\"• Machine Learning Specialization\")\n",
        "    print(\"  https://www.coursera.org/specializations/machine-learning-introduction\")\n",
        "    print(\"\")\n",
        "    print(\"• IBM AI Foundations for Business Specialization\")\n",
        "    print(\"  https://www.coursera.org/specializations/ibm-ai-foundations-for-business\")\n",
        "\n",
        "\n",
        "  # rule 2\n",
        "  @Rule(AND(Course(freeOrPaid = \"paid\"), Course(duration = \"1-3\"), Course(level = \"intermediate\")))\n",
        "  def select_course2(self):\n",
        "    print(\"• Tens AI for Medicine Specialization\")\n",
        "    print(\"  https://www.coursera.org/specializations/ai-for-medicine\")\n",
        "    print(\"\")\n",
        "    print(\"• Introduction to Machine Learning\")\n",
        "    print(\"  https://www.coursera.org/learn/machine-learning-duke\")\n",
        "\n",
        "\n",
        "  # rule 3\n",
        "  @Rule(AND(Course(freeOrPaid = \"paid\"), Course(duration = \"1-3\"), Course(level = \"hard\")))\n",
        "  def select_course3(self):\n",
        "    print(\"• The Economics of AI\")\n",
        "    print(\"  https://www.coursera.org/learn/economics-of-ai\")\n",
        "    print(\"\")\n",
        "    print(\"• Developing AI Applications on Azure\")\n",
        "    print(\"  https://www.coursera.org/learn/developing-ai-applications-azure\")\n",
        "\n",
        "  # rule 4\n",
        "  @Rule(AND(Course(freeOrPaid = \"paid\"), Course(duration = \"3-6\"), Course(level = \"easy\")))\n",
        "  def select_course4(self):\n",
        "    print(\"• IBM Applied AI Professional Certificate\")\n",
        "    print(\"  https://www.coursera.org/professional-certificates/applied-artifical-intelligence-ibm-watson-ai\")\n",
        "    print(\"\")\n",
        "    print(\"• AI Foundations for Everyone Specialization\")\n",
        "    print(\"  https://www.coursera.org/specializations/ai-foundations-for-everyone\")\n",
        "\n",
        "\n",
        "  # rule 5\n",
        "  @Rule(AND(Course(freeOrPaid = \"paid\"), Course(duration = \"3-6\"), Course(level = \"intermediate\")))\n",
        "  def select_course5(self):\n",
        "    print(\"• IBM AI Engineering Professional Certificate\")\n",
        "    print(\"  https://www.coursera.org/professional-certificates/ai-engineer\")\n",
        "    print(\"\")\n",
        "    print(\"• Deep Learning Specialization\")\n",
        "    print(\"  https://www.coursera.org/specializations/deep-learning\")\n",
        "\n",
        "\n",
        "  # rule 6\n",
        "  @Rule(AND(Course(freeOrPaid = \"paid\"), Course(duration = \"3-6\"), Course(level = \"hard\")))\n",
        "  def select_course6(self):\n",
        "    print(\"• The Economics of AI\")\n",
        "    print(\"  https://www.coursera.org/learn/economics-of-ai\")\n",
        "    print(\"\")\n",
        "    print(\"• IBM AI Enterprise Workflow Specialization\")\n",
        "    print(\"  https://www.coursera.org/specializations/ibm-ai-workflow\")\n",
        "\n",
        "\n",
        "  # rule 7\n",
        "  @Rule(AND(Course(freeOrPaid = \"free\"), Course(duration = \"1-3\"), Course(level = \"easy\")))\n",
        "  def select_course7(self):\n",
        "    print(\"• CS50's Introduction to Artificial Intelligence with Python\")\n",
        "    print(\"  https://pll.harvard.edu/course/cs50s-introduction-artificial-intelligence-python?delta=0\")\n",
        "    print(\"\")\n",
        "    print(\"• Fundamentals of TinyML\")\n",
        "    print(\"  https://pll.harvard.edu/course/fundamentals-tinyml?delta=0\")\n",
        "    print(\"\")\n",
        "    print(\"• Python with AI\")\n",
        "    print(\"  https://www.udemy.com/course/pythonwithai/\")\n",
        "\n",
        "  # rule 8\n",
        "  @Rule(AND(Course(freeOrPaid = \"free\"), Course(duration = \"1-3\"), Course(level = \"intermediate\")))\n",
        "  def select_course8(self):\n",
        "    print(\"• Amazing AI: Reverse Image Search\")\n",
        "    print(\"  https://www.udemy.com/course/practical-deep-learning-image-search-engine/\")\n",
        "    print(\"\")\n",
        "    print(\"• Intro to Artificial Intelligence\")\n",
        "    print(\"  https://www.udacity.com/course/intro-to-artificial-intelligence--cs271\")\n",
        "\n",
        "  # rule 9\n",
        "  @Rule(AND(Course(freeOrPaid = \"free\"), Course(duration = \"1-3\"), Course(level = \"hard\")))\n",
        "  def select_course9(self):\n",
        "    print(\"• Understanding Artificial Intelligence through Algorithmic Information Theory\")\n",
        "    print(\"  https://www.edx.org/course/artificial-intelligence-algorithmic-information-aiai?index=product_value_experiment_a&queryID=3466111859de18877a669c291f814f03&position=3\")\n",
        "    print(\"\")\n",
        "    print(\"• Quantum Machine Learning\")\n",
        "    print(\"  https://www.edx.org/course/quantum-machine-learning?index=product_value_experiment_a&queryID=9984dca73ba8dac14cea35208e3e490c&position=11\")\n",
        "\n",
        "\n",
        "  # rule 10\n",
        "  @Rule(AND(Course(freeOrPaid = \"free\"), Course(duration = \"3-6\"), Course(level = \"easy\")))\n",
        "  def select_course10(self):\n",
        "    print(\"• Data and AI Fundamentals\")\n",
        "    print(\"  https://www.edx.org/course/data-and-ai-fundamentals?index=product_value_experiment_a&queryID=545a46ba71877c1aa3c673cd99b3ade6&position=6\")\n",
        "    print(\"\")\n",
        "    print(\"• Artificial Intelligence Markup Language (AIML)\")\n",
        "    print(\"  https://www.udemy.com/course/artificial-intelligence-markup-language/\")\n",
        "\n",
        "\n",
        "  # rule 11\n",
        "  @Rule(AND(Course(freeOrPaid = \"free\"), Course(duration = \"3-6\"), Course(level = \"intermediate\")))\n",
        "  def select_course11(self):\n",
        "    print(\"• Machine Learning\")\n",
        "    print(\"  https://www.edx.org/course/machine-learning-4?index=product_value_experiment_a&queryID=f16c7f1efb41d144d9ba13d4f43fdfd7&position=3\")\n",
        "    print(\"\")\n",
        "    print(\"• Leading Digital and Data Decision Making\")\n",
        "    print(\"  https://www.edx.org/course/leading-digital-and-data-decision-making-2?index=product_value_experiment_a&queryID=f16c7f1efb41d144d9ba13d4f43fdfd7&position=8\")\n",
        "\n",
        "\n",
        "  # rule 12\n",
        "  @Rule(AND(Course(freeOrPaid = \"free\"), Course(duration = \"3-6\"), Course(level = \"hard\")))\n",
        "  def select_course12(self):\n",
        "    print(\"• AI for Leaders\")\n",
        "    print(\"  https://www.mygreatlearning.com/academy/learn-for-free/courses/ai-for-leaders1\")\n",
        "    print(\"\")\n",
        "    print(\"• Learn to Build an In-App Voice AI Assistant\")\n",
        "    print(\"  https://www.udemy.com/course/alan-ai-course/\")\n",
        "\n",
        "engine = SuitableCourseKBA()\n",
        "engine.reset()\n",
        "\n",
        "print(cyan(\"Hello!\\nFor helping you in finding the suiatble AI course please answer the following questions:\\n\",'dim'))\n",
        "\n",
        "freeOrPaid_now = input(\"Free or Paid course? \").lower()\n",
        "duration_now = input(\"Course Duration (1-3) or (3-6) Months? \").lower()\n",
        "level_now = input(\"Course level (Easy) or (Intermediate) or (Hard)? \").lower()\n",
        "engine.declare(Course(freeOrPaid = freeOrPaid_now, duration = duration_now, level = level_now))\n",
        "print(blue('\\nSuitable Courses for you are: \\n','bold'))\n",
        "\n",
        "\n",
        "engine.run()\n",
        "print(cyan(\"\\n\\nThank you for using our expert system\",'blink'))"
      ],
      "metadata": {
        "colab": {
          "base_uri": "https://localhost:8080/"
        },
        "id": "eUpwYjslpNPH",
        "outputId": "ddddcbee-c7de-4be9-9bb5-5cc2269264fd"
      },
      "execution_count": 34,
      "outputs": [
        {
          "output_type": "stream",
          "name": "stdout",
          "text": [
            "\u001b[2;36mHello!\n",
            "For helping you in finding the suiatble AI course please answer the following questions:\n",
            "\u001b[0m\n",
            "Free or Paid course? paid\n",
            "Course Duration (1-3) or (3-6) Months? 1-3\n",
            "Course level (Easy) or (Intermediate) or (Hard)? easy\n",
            "\u001b[1;34m\n",
            "Suitable Courses for you are: \n",
            "\u001b[0m\n",
            "• Machine Learning Specialization\n",
            "  https://www.coursera.org/specializations/machine-learning-introduction\n",
            "\n",
            "• IBM AI Foundations for Business Specialization\n",
            "  https://www.coursera.org/specializations/ibm-ai-foundations-for-business\n",
            "\u001b[5;36m\n",
            "\n",
            "Thank you for using our expert system\u001b[0m\n"
          ]
        }
      ]
    }
  ]
}